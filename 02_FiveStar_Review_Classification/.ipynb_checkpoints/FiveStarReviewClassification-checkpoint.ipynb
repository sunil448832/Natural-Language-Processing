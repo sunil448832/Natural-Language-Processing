{
 "cells": [
  {
   "cell_type": "code",
   "execution_count": null,
   "metadata": {
    "id": "mc3EF9gp3aki"
   },
   "outputs": [],
   "source": [
    "!pip install --upgrade fastpunct"
   ]
  },
  {
   "cell_type": "code",
   "execution_count": 20,
   "metadata": {
    "id": "tHPJeaFXzdAA"
   },
   "outputs": [],
   "source": [
    "import torch\n",
    "import numpy as np\n",
    "from dataset import*\n",
    "from basemodel import*\n",
    "from utils import*\n",
    "from torch.autograd import Variable\n",
    "import torch.nn as nn\n",
    "import pandas as pd\n",
    "import torch.nn.functional as F\n",
    "from torch.utils.data import Dataset,DataLoader\n",
    "from sklearn.model_selection import train_test_split\n",
    "device = torch.device(\"cuda:0\" if torch.cuda.is_available() else \"cpu\")"
   ]
  },
  {
   "cell_type": "code",
   "execution_count": 18,
   "metadata": {
    "colab": {
     "base_uri": "https://localhost:8080/",
     "height": 666
    },
    "id": "p3u0HcV5vAdd",
    "outputId": "e3a81977-b220-4bee-a567-1b3a2dca3576"
   },
   "outputs": [
    {
     "name": "stdout",
     "output_type": "stream",
     "text": [
      "Downloading...\n",
      "From: https://drive.google.com/uc?id=1H8lDkPzYbhn1_mezi9hnbIUrFhSTDvRZ\n",
      "To: /content/drive/My Drive/assign_comp/assign_comp/chrome_reviews.csv\n",
      "100% 1.98M/1.98M [00:00<00:00, 31.1MB/s]\n",
      "Downloading...\n",
      "From: https://drive.google.com/uc?id=1-0Q78JNERCaTgle8Ez7UW8T_rsOJe3bI\n",
      "To: /content/drive/My Drive/assign_comp/assign_comp/glove.6B.50d.txt\n",
      "171MB [00:01, 139MB/s]\n",
      "Downloading...\n",
      "From: https://drive.google.com/uc?id=1GTv6aDXnhLa706AK2Cit6ktgk5imSNtE\n",
      "To: /content/drive/My Drive/assign_comp/assign_comp/vocab_star.txt\n",
      "203MB [00:01, 182MB/s]\n",
      "(7106, 10)\n"
     ]
    },
    {
     "data": {
      "text/html": [
       "<div>\n",
       "<style scoped>\n",
       "    .dataframe tbody tr th:only-of-type {\n",
       "        vertical-align: middle;\n",
       "    }\n",
       "\n",
       "    .dataframe tbody tr th {\n",
       "        vertical-align: top;\n",
       "    }\n",
       "\n",
       "    .dataframe thead th {\n",
       "        text-align: right;\n",
       "    }\n",
       "</style>\n",
       "<table border=\"1\" class=\"dataframe\">\n",
       "  <thead>\n",
       "    <tr style=\"text-align: right;\">\n",
       "      <th></th>\n",
       "      <th>ID</th>\n",
       "      <th>Review URL</th>\n",
       "      <th>Text</th>\n",
       "      <th>Star</th>\n",
       "      <th>Thumbs Up</th>\n",
       "      <th>User Name</th>\n",
       "      <th>Developer Reply</th>\n",
       "      <th>Version</th>\n",
       "      <th>Review Date</th>\n",
       "      <th>App ID</th>\n",
       "    </tr>\n",
       "  </thead>\n",
       "  <tbody>\n",
       "    <tr>\n",
       "      <th>0</th>\n",
       "      <td>3886</td>\n",
       "      <td>https://play.google.com/store/apps/details?id=...</td>\n",
       "      <td>This is very helpfull aap.</td>\n",
       "      <td>5</td>\n",
       "      <td>0</td>\n",
       "      <td>INDIAN Knowledge</td>\n",
       "      <td>NaN</td>\n",
       "      <td>83.0.4103.106</td>\n",
       "      <td>2020-12-19</td>\n",
       "      <td>com.android.chrome</td>\n",
       "    </tr>\n",
       "    <tr>\n",
       "      <th>1</th>\n",
       "      <td>3887</td>\n",
       "      <td>https://play.google.com/store/apps/details?id=...</td>\n",
       "      <td>Good</td>\n",
       "      <td>3</td>\n",
       "      <td>2</td>\n",
       "      <td>Ijeoma Happiness</td>\n",
       "      <td>NaN</td>\n",
       "      <td>85.0.4183.127</td>\n",
       "      <td>2020-12-19</td>\n",
       "      <td>com.android.chrome</td>\n",
       "    </tr>\n",
       "    <tr>\n",
       "      <th>2</th>\n",
       "      <td>3888</td>\n",
       "      <td>https://play.google.com/store/apps/details?id=...</td>\n",
       "      <td>Not able to update. Neither able to uninstall.</td>\n",
       "      <td>1</td>\n",
       "      <td>0</td>\n",
       "      <td>Priti D BtCFs-29</td>\n",
       "      <td>NaN</td>\n",
       "      <td>85.0.4183.127</td>\n",
       "      <td>2020-12-19</td>\n",
       "      <td>com.android.chrome</td>\n",
       "    </tr>\n",
       "    <tr>\n",
       "      <th>3</th>\n",
       "      <td>3889</td>\n",
       "      <td>https://play.google.com/store/apps/details?id=...</td>\n",
       "      <td>Nice app</td>\n",
       "      <td>4</td>\n",
       "      <td>0</td>\n",
       "      <td>Ajeet Raja</td>\n",
       "      <td>NaN</td>\n",
       "      <td>77.0.3865.116</td>\n",
       "      <td>2020-12-19</td>\n",
       "      <td>com.android.chrome</td>\n",
       "    </tr>\n",
       "    <tr>\n",
       "      <th>4</th>\n",
       "      <td>3890</td>\n",
       "      <td>https://play.google.com/store/apps/details?id=...</td>\n",
       "      <td>Many unwanted ads</td>\n",
       "      <td>1</td>\n",
       "      <td>0</td>\n",
       "      <td>Rams Mp</td>\n",
       "      <td>NaN</td>\n",
       "      <td>87.0.4280.66</td>\n",
       "      <td>2020-12-19</td>\n",
       "      <td>com.android.chrome</td>\n",
       "    </tr>\n",
       "  </tbody>\n",
       "</table>\n",
       "</div>"
      ],
      "text/plain": [
       "     ID  ...              App ID\n",
       "0  3886  ...  com.android.chrome\n",
       "1  3887  ...  com.android.chrome\n",
       "2  3888  ...  com.android.chrome\n",
       "3  3889  ...  com.android.chrome\n",
       "4  3890  ...  com.android.chrome\n",
       "\n",
       "[5 rows x 10 columns]"
      ]
     },
     "execution_count": 18,
     "metadata": {
      "tags": []
     },
     "output_type": "execute_result"
    }
   ],
   "source": [
    "!gdown --id \"1H8lDkPzYbhn1_mezi9hnbIUrFhSTDvRZ\" # down loading chrome_reviews.csv\n",
    "!gdown --id \"1-0Q78JNERCaTgle8Ez7UW8T_rsOJe3bI\" # downloading glove_file.txt \n",
    "!gdown --id \"1GTv6aDXnhLa706AK2Cit6ktgk5imSNtE\" # downloading vocab_file.txt\n",
    "\n",
    "df=pd.read_csv('./chrome_reviews.csv')\n",
    "df = df[df['Text'].notna()]\n",
    "df['Text']=df['Text'].apply(lambda x:remove_emoji(x))\n",
    "df = df[df['Text']!=\"\"]\n",
    "print(df.shape)\n",
    "df.head()\n"
   ]
  },
  {
   "cell_type": "code",
   "execution_count": 19,
   "metadata": {
    "id": "u2tTzCqJ5sgR"
   },
   "outputs": [],
   "source": [
    "data,labels=df[\"Text\"].values,df[\"Star\"].astype(int).values\n",
    "glove_file= './glove.6B.50d.txt'\n",
    "loader=TextLoader()\n",
    "#loader.build_vocab(data,50,glove_file=glove_file,write_file=\"vocab_star.txt\",correct=True)\n",
    "loader.build_vocab(data,50,vocab_file=\"./vocab_star.txt\")\n"
   ]
  },
  {
   "cell_type": "code",
   "execution_count": 12,
   "metadata": {
    "id": "gkECpaSxzqa7"
   },
   "outputs": [],
   "source": [
    "data_=np.array(loader.text)\n",
    "X_train, X_test, y_train, y_test = train_test_split(data_, labels, test_size=0.20, random_state=42)\n",
    "train_dataset=MyDataset(X_train,y_train)\n",
    "val_dataset=MyDataset(X_test,y_test)\n"
   ]
  },
  {
   "cell_type": "code",
   "execution_count": 13,
   "metadata": {
    "id": "ThikOcbauuRB"
   },
   "outputs": [],
   "source": [
    "model_lstm=BaseModel(vocab_size=len(loader.vectors),embedding_size=50,hidden_size=256)"
   ]
  },
  {
   "cell_type": "code",
   "execution_count": 14,
   "metadata": {
    "id": "drUXA94UNS8c"
   },
   "outputs": [],
   "source": [
    "\n",
    "class Classifier(nn.Module):\n",
    "  def __init__(self,hidden_size,output_size,model_lstm,lm=False):\n",
    "    super(Classifier,self).__init__()\n",
    "    self.lm=lm\n",
    "    self.rnn=model_lstm\n",
    "    if lm:\n",
    "      self.linear=nn.Linear(hidden_size,output_size)\n",
    "    else:\n",
    "      self.linear=nn.Sequential(nn.Linear(hidden_size,128),\n",
    "                                    nn.ReLU(),\n",
    "                                    nn.Linear(128,output_size))\n",
    "      \n",
    "  def forward(self,input):\n",
    "    last_output=self.rnn(input)\n",
    "    if self.lm:\n",
    "      output=self.linear(last_output)\n",
    "      output=F.log_softmax(output, dim=2)\n",
    "    else:\n",
    "      output=self.linear(last_output[:,-1,:])\n",
    "      output=F.log_softmax(output, dim=1)\n",
    "    return output\n",
    " \n",
    "\n",
    "#model=Classifier(256,len(loader.vectors),model_lstm,lm=True).to(device)\n",
    "model=Classifier(256,5,model_lstm).to(device)\n",
    "lm=False"
   ]
  },
  {
   "cell_type": "code",
   "execution_count": 15,
   "metadata": {
    "colab": {
     "base_uri": "https://localhost:8080/"
    },
    "id": "AfFlx6_uZJuG",
    "outputId": "c0a9899c-6e3e-4e85-94bf-e118b2c8f06e"
   },
   "outputs": [
    {
     "name": "stderr",
     "output_type": "stream",
     "text": [
      "100%|██████████| 356/356 [00:08<00:00, 44.12it/s]\n",
      "100%|██████████| 89/89 [00:00<00:00, 552.93it/s]\n",
      "  1%|▏         | 5/356 [00:00<00:07, 45.07it/s]"
     ]
    },
    {
     "name": "stdout",
     "output_type": "stream",
     "text": [
      "train_loss : 0.0021446768660098314    accuracy : 0.6978330612182617 \n"
     ]
    },
    {
     "name": "stderr",
     "output_type": "stream",
     "text": [
      "100%|██████████| 356/356 [00:08<00:00, 43.83it/s]\n",
      "100%|██████████| 89/89 [00:00<00:00, 543.72it/s]\n",
      "  1%|▏         | 5/356 [00:00<00:07, 44.56it/s]"
     ]
    },
    {
     "name": "stdout",
     "output_type": "stream",
     "text": [
      "train_loss : 0.0027653651777654886    accuracy : 0.7083668112754822 \n"
     ]
    },
    {
     "name": "stderr",
     "output_type": "stream",
     "text": [
      "100%|██████████| 356/356 [00:08<00:00, 43.76it/s]\n",
      "100%|██████████| 89/89 [00:00<00:00, 522.73it/s]\n",
      "  1%|▏         | 5/356 [00:00<00:08, 42.37it/s]"
     ]
    },
    {
     "name": "stdout",
     "output_type": "stream",
     "text": [
      "train_loss : 0.0023569592740386724    accuracy : 0.7139847874641418 \n"
     ]
    },
    {
     "name": "stderr",
     "output_type": "stream",
     "text": [
      "100%|██████████| 356/356 [00:08<00:00, 43.72it/s]\n",
      "100%|██████████| 89/89 [00:00<00:00, 556.86it/s]\n",
      "  1%|▏         | 5/356 [00:00<00:08, 43.64it/s]"
     ]
    },
    {
     "name": "stdout",
     "output_type": "stream",
     "text": [
      "train_loss : 0.0021452002692967653    accuracy : 0.7196027040481567 \n"
     ]
    },
    {
     "name": "stderr",
     "output_type": "stream",
     "text": [
      "100%|██████████| 356/356 [00:08<00:00, 44.16it/s]\n",
      "100%|██████████| 89/89 [00:00<00:00, 546.89it/s]\n",
      "  1%|▏         | 5/356 [00:00<00:07, 45.11it/s]"
     ]
    },
    {
     "name": "stdout",
     "output_type": "stream",
     "text": [
      "train_loss : 0.0021419362165033817    accuracy : 0.7231139540672302 \n"
     ]
    },
    {
     "name": "stderr",
     "output_type": "stream",
     "text": [
      "100%|██████████| 356/356 [00:08<00:00, 43.88it/s]\n",
      "100%|██████████| 89/89 [00:00<00:00, 545.35it/s]"
     ]
    },
    {
     "name": "stdout",
     "output_type": "stream",
     "text": [
      "train_loss : 0.00243746442720294    accuracy : 0.7181982398033142 \n"
     ]
    },
    {
     "name": "stderr",
     "output_type": "stream",
     "text": [
      "\n"
     ]
    }
   ],
   "source": [
    "from tqdm import tqdm\n",
    "\n",
    "def train_model(train_data,model,optimizer,batch_size,bptt,lm=False,max_len=100):\n",
    "  loss,count=0,0\n",
    "  criterion=nn.NLLLoss()\n",
    "  model.train()\n",
    "  for data,target in tqdm(DataLoader(train_data,batch_size=batch_size)):\n",
    "    if lm:\n",
    "      data,target=loader.postprocess(batch=data,lm=lm,max_len=max_len)\n",
    "    else:\n",
    "      data=loader.postprocess(batch=data,max_len=max_len)\n",
    "    data_chunk=data.split(bptt,dim=1)\n",
    "    target_chunk=target.split(bptt,dim=1) if lm else target.unsqueeze(1).repeat(1,bptt).split(1,dim=1)\n",
    "    bptt_loss= 0\n",
    "    count+=1\n",
    "    model.rnn.rnn_state=None\n",
    "    for data,target in zip(data_chunk,target_chunk):\n",
    "      data=data.to(device)\n",
    "      target=target.to(device)\n",
    "      model.zero_grad()\n",
    "      predictions = model(data)\n",
    "      loss = criterion(predictions.permute(0,2,1), target) if lm else criterion(predictions, target.squeeze(1)-1)\n",
    "      loss.backward()\n",
    "      optimizer.step()\n",
    "      model.rnn.repackage_rnn_state()\n",
    "      bptt_loss += loss.item()\n",
    "     \n",
    "    loss+=bptt_loss/bptt\n",
    "  return loss/count\n",
    "\n",
    "def eval_model(val_data,model,batch_size,lm=False,max_len=100):\n",
    "  model.eval()\n",
    "  epoch_acc,count=0.0,0\n",
    "  with torch.no_grad():\n",
    "    for data_,target in tqdm(DataLoader(val_data,batch_size=batch_size)):\n",
    "      model.rnn.rnn_state=None\n",
    "      if lm:\n",
    "        data,target=loader.postprocess(batch=data_,lm=lm,max_len=max_len)\n",
    "      else:\n",
    "        data=loader.postprocess(batch=data_,max_len=max_len)\n",
    "\n",
    "      data=data.to(device) \n",
    "      target=target.to(device)\n",
    "      predictions = model(data)\n",
    "\n",
    "      acc = accuracy(predictions, target,lm) \n",
    "      epoch_acc+=acc\n",
    "      count+=1\n",
    "    epoch_acc = epoch_acc/count\n",
    "    \n",
    "  return epoch_acc\n",
    "\n",
    "optimizer=torch.optim.Adam(model.parameters(),lr=0.001)\n",
    "criterion=nn.CrossEntropyLoss()\n",
    "for epoch in range(6):\n",
    "  train_loss=train_model(train_dataset,model,optimizer,16,20,max_len=40,lm=lm)\n",
    "  val_acc=eval_model(val_dataset,model,16,max_len=40,lm=lm)\n",
    "  print(\"train_loss : {}    accuracy : {} \".format(train_loss,val_acc))"
   ]
  }
 ],
 "metadata": {
  "accelerator": "GPU",
  "colab": {
   "collapsed_sections": [],
   "name": "FiveStarReviewClassification.ipynb",
   "provenance": []
  },
  "kernelspec": {
   "display_name": "Python 3",
   "language": "python",
   "name": "python3"
  },
  "language_info": {
   "codemirror_mode": {
    "name": "ipython",
    "version": 3
   },
   "file_extension": ".py",
   "mimetype": "text/x-python",
   "name": "python",
   "nbconvert_exporter": "python",
   "pygments_lexer": "ipython3",
   "version": "3.8.5"
  }
 },
 "nbformat": 4,
 "nbformat_minor": 1
}
