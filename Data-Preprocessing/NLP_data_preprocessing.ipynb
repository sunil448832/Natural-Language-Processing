{
  "nbformat": 4,
  "nbformat_minor": 0,
  "metadata": {
    "accelerator": "GPU",
    "colab": {
      "name": "Copy of NLP_Assignment_1.ipynb",
      "provenance": [],
      "toc_visible": true
    },
    "kernelspec": {
      "display_name": "Python 3",
      "language": "python",
      "name": "python3"
    },
    "language_info": {
      "codemirror_mode": {
        "name": "ipython",
        "version": 3
      },
      "file_extension": ".py",
      "mimetype": "text/x-python",
      "name": "python",
      "nbconvert_exporter": "python",
      "pygments_lexer": "ipython3",
      "version": "3.7.4"
    },
    "varInspector": {
      "cols": {
        "lenName": 16,
        "lenType": 16,
        "lenVar": 40
      },
      "kernels_config": {
        "python": {
          "delete_cmd_postfix": "",
          "delete_cmd_prefix": "del ",
          "library": "var_list.py",
          "varRefreshCmd": "print(var_dic_list())"
        },
        "r": {
          "delete_cmd_postfix": ") ",
          "delete_cmd_prefix": "rm(",
          "library": "var_list.r",
          "varRefreshCmd": "cat(var_dic_list()) "
        }
      },
      "types_to_exclude": [
        "module",
        "function",
        "builtin_function_or_method",
        "instance",
        "_Feature"
      ],
      "window_display": false
    }
  },
  "cells": [
    {
      "cell_type": "code",
      "metadata": {
        "id": "O3FNpSolZp3e"
      },
      "source": [
        "import numpy as np\n",
        "import nltk\n",
        "import re\n",
        "from nltk import ngrams\n",
        "from nltk.tokenize import RegexpTokenizer\n",
        "from matplotlib import pyplot as plt\n",
        "from nltk.corpus import stopwords\n",
        "from nltk.tokenize import word_tokenize\n",
        "from nltk.stem import WordNetLemmatizer \n",
        "from nltk.stem import PorterStemmer"
      ],
      "execution_count": 46,
      "outputs": []
    },
    {
      "cell_type": "code",
      "metadata": {
        "id": "XOW1Xz4tI_-h",
        "colab": {
          "base_uri": "https://localhost:8080/"
        },
        "outputId": "83116134-201f-4667-a78f-a5ad4031ceb8"
      },
      "source": [
        "nltk.download('punkt');\n",
        "nltk.download('stopwords');\n",
        "nltk.download('wordnet');"
      ],
      "execution_count": 47,
      "outputs": [
        {
          "output_type": "stream",
          "text": [
            "[nltk_data] Downloading package punkt to /root/nltk_data...\n",
            "[nltk_data]   Package punkt is already up-to-date!\n",
            "[nltk_data] Downloading package stopwords to /root/nltk_data...\n",
            "[nltk_data]   Package stopwords is already up-to-date!\n",
            "[nltk_data] Downloading package wordnet to /root/nltk_data...\n",
            "[nltk_data]   Package wordnet is already up-to-date!\n"
          ],
          "name": "stdout"
        }
      ]
    },
    {
      "cell_type": "markdown",
      "metadata": {
        "id": "sDnNBDnI4QeD"
      },
      "source": [
        "# **Read the Movies Text data**"
      ]
    },
    {
      "cell_type": "code",
      "metadata": {
        "id": "cf-SlpUB33FQ",
        "colab": {
          "base_uri": "https://localhost:8080/"
        },
        "outputId": "782dfef2-1017-46c0-b69b-21ff1aee2de2"
      },
      "source": [
        "path=\"/content/movies_text.txt\"\n",
        "file=open(path,'r')\n",
        "raw_data=file.read().strip()\n",
        "print(raw_data[:1000])"
      ],
      "execution_count": 48,
      "outputs": [
        {
          "output_type": "stream",
          "text": [
            "@@176501 Either you 're flat or I am . I beg your pardon . Excuse me . Always the lady . Say ... Say , what the ... ? Why , I frighten your hiccup away , Marthy . Yes , you did . And I 'm going to hit you . See here . If you soak me in the eye again I 'm gon na quit you . - You get me ? - No . Only on the back this time , Marthy . I get you . - Well , I think you lose them , Marthy . - Yes . Yes , I did . Oh , I got it . Ten ... Ten swallows of this without breathing and ... sure cure . One , two , three , four , five 10 . Maybe I got hiccup too , Marthy . See ? I told you . It 's a sure cure , never fails . I think we got to go to Johnny the Harp for get some more whiskey . Yeah , well . Right you are , I 'm bone dry . Wait , I 'll get my bonnet . @ @ @ @ @ @ @ @ @ @ me together once more . Hold that , will you ? You 're not sorry you took me back , are you ? Oh , no , Marthy . I 'm darn glad I found you in Norfolk . Aye , you been too old to go walking streets , Marthy . Old ! But yo\n"
          ],
          "name": "stdout"
        }
      ]
    },
    {
      "cell_type": "markdown",
      "metadata": {
        "id": "Ih4QLSTq0lii"
      },
      "source": [
        "# **Punctuation Removal**"
      ]
    },
    {
      "cell_type": "code",
      "metadata": {
        "id": "HNkm2di_4dir",
        "colab": {
          "base_uri": "https://localhost:8080/"
        },
        "outputId": "d4198928-12fc-4af9-ebe0-c481d2140032"
      },
      "source": [
        "data=re.split('[.]',raw_data)[:20000]\n",
        "\n",
        "#punctutation removal\n",
        "data=[re.sub(r\"[^a-zA-Z'!]+\", ' ', i.lower()) for i in data if len(i)>2]\n",
        "print(data[:10])"
      ],
      "execution_count": 49,
      "outputs": [
        {
          "output_type": "stream",
          "text": [
            "[\" either you 're flat or i am \", ' i beg your pardon ', ' excuse me ', ' always the lady ', ' say ', ' say what the ', ' why i frighten your hiccup away marthy ', ' yes you did ', \" and i 'm going to hit you \", ' see here ']\n"
          ],
          "name": "stdout"
        }
      ]
    },
    {
      "cell_type": "code",
      "metadata": {
        "id": "5XfZfHogaLbu"
      },
      "source": [
        "CONTRACTION_MAP = {\n",
        "    \"ain't\": \"is not\",\n",
        "    \"aren't\": \"are not\",\n",
        "    \"can't\": \"cannot\",\n",
        "    \"can't've\": \"cannot have\",\n",
        "    \"'cause\": \"because\",\n",
        "    \"could've\": \"could have\",\n",
        "    \"couldn't\": \"could not\",\n",
        "    \"couldn't've\": \"could not have\",\n",
        "    \"didn't\": \"did not\",\n",
        "    \"doesn't\": \"does not\",\n",
        "    \"don't\": \"do not\",\n",
        "    \"hadn't\": \"had not\",\n",
        "    \"hadn't've\": \"had not have\",\n",
        "    \"hasn't\": \"has not\",\n",
        "    \"haven't\": \"have not\",\n",
        "    \"he'd\": \"he would\",\n",
        "    \"he'd've\": \"he would have\",\n",
        "    \"he'll\": \"he will\",\n",
        "    \"he'll've\": \"he he will have\",\n",
        "    \"he's\": \"he is\",\n",
        "    \"how'd\": \"how did\",\n",
        "    \"how'd'y\": \"how do you\",\n",
        "    \"how'll\": \"how will\",\n",
        "    \"how's\": \"how is\",\n",
        "    \"I'd\": \"I would\",\n",
        "    \"I'd've\": \"I would have\",\n",
        "    \"I'll\": \"I will\",\n",
        "    \"I'll've\": \"I will have\",\n",
        "    \"I'm\": \"I am\",\n",
        "    \"I've\": \"I have\",\n",
        "    \"i'd\": \"i would\",\n",
        "    \"i'd've\": \"i would have\",\n",
        "    \"i'll\": \"i will\",\n",
        "    \"i'll've\": \"i will have\",\n",
        "    \"i'm\": \"i am\",\n",
        "    \"i've\": \"i have\",\n",
        "    \"isn't\": \"is not\",\n",
        "    \"it'd\": \"it would\",\n",
        "    \"it'd've\": \"it would have\",\n",
        "    \"it'll\": \"it will\",\n",
        "    \"it'll've\": \"it will have\",\n",
        "    \"it's\": \"it is\",\n",
        "    \"let's\": \"let us\",\n",
        "    \"ma'am\": \"madam\",\n",
        "    \"mayn't\": \"may not\",\n",
        "    \"might've\": \"might have\",\n",
        "    \"mightn't\": \"might not\",\n",
        "    \"mightn't've\": \"might not have\",\n",
        "    \"must've\": \"must have\",\n",
        "    \"mustn't\": \"must not\",\n",
        "    \"mustn't've\": \"must not have\",\n",
        "    \"needn't\": \"need not\",\n",
        "    \"needn't've\": \"need not have\",\n",
        "    \"o'clock\": \"of the clock\",\n",
        "    \"oughtn't\": \"ought not\",\n",
        "    \"oughtn't've\": \"ought not have\",\n",
        "    \"shan't\": \"shall not\",\n",
        "    \"sha'n't\": \"shall not\",\n",
        "    \"shan't've\": \"shall not have\",\n",
        "    \"she'd\": \"she would\",\n",
        "    \"she'd've\": \"she would have\",\n",
        "    \"she'll\": \"she will\",\n",
        "    \"she'll've\": \"she will have\",\n",
        "    \"she's\": \"she is\",\n",
        "    \"should've\": \"should have\",\n",
        "    \"shouldn't\": \"should not\",\n",
        "    \"shouldn't've\": \"should not have\",\n",
        "    \"so've\": \"so have\",\n",
        "    \"so's\": \"so as\",\n",
        "    \"that'd\": \"that would\",\n",
        "    \"that'd've\": \"that would have\",\n",
        "    \"that's\": \"that is\",\n",
        "    \"there'd\": \"there would\",\n",
        "    \"there'd've\": \"there would have\",\n",
        "    \"there's\": \"there is\",\n",
        "    \"they'd\": \"they would\",\n",
        "    \"they'd've\": \"they would have\",\n",
        "    \"they'll\": \"they will\",\n",
        "    \"they'll've\": \"they will have\",\n",
        "    \"they're\": \"they are\",\n",
        "    \"they've\": \"they have\",\n",
        "    \"to've\": \"to have\",\n",
        "    \"wasn't\": \"was not\",\n",
        "    \"we'd\": \"we would\",\n",
        "    \"we'd've\": \"we would have\",\n",
        "    \"we'll\": \"we will\",\n",
        "    \"we'll've\": \"we will have\",\n",
        "    \"we're\": \"we are\",\n",
        "    \"we've\": \"we have\",\n",
        "    \"weren't\": \"were not\",\n",
        "    \"what'll\": \"what will\",\n",
        "    \"what'll've\": \"what will have\",\n",
        "    \"what're\": \"what are\",\n",
        "    \"what's\": \"what is\",\n",
        "    \"what've\": \"what have\",\n",
        "    \"when's\": \"when is\",\n",
        "    \"when've\": \"when have\",\n",
        "    \"where'd\": \"where did\",\n",
        "    \"where's\": \"where is\",\n",
        "    \"where've\": \"where have\",\n",
        "    \"who'll\": \"who will\",\n",
        "    \"who'll've\": \"who will have\",\n",
        "    \"who's\": \"who is\",\n",
        "    \"who've\": \"who have\",\n",
        "    \"why's\": \"why is\",\n",
        "    \"why've\": \"why have\",\n",
        "    \"will've\": \"will have\",\n",
        "    \"won't\": \"will not\",\n",
        "    \"won't've\": \"will not have\",\n",
        "    \"would've\": \"would have\",\n",
        "    \"wouldn't\": \"would not\",\n",
        "    \"wouldn't've\": \"would not have\",\n",
        "    \"y'all\": \"you all\",\n",
        "    \"y'all'd\": \"you all would\",\n",
        "    \"y'all'd've\": \"you all would have\",\n",
        "    \"y'all're\": \"you all are\",\n",
        "    \"y'all've\": \"you all have\",\n",
        "    \"you'd\": \"you would\",\n",
        "    \"you'd've\": \"you would have\",\n",
        "    \"you'll\": \"you will\",\n",
        "    \"you'll've\": \"you will have\",\n",
        "    \"you're\": \"you are\",\n",
        "    \"you've\": \"you have\"\n",
        "    }"
      ],
      "execution_count": 50,
      "outputs": []
    },
    {
      "cell_type": "code",
      "metadata": {
        "id": "XEp4x9rXaQog"
      },
      "source": [
        "def expand(text, contraction_mapping=CONTRACTION_MAP):\n",
        "    contractions_pattern = re.compile('({})'.format('|'.join(contraction_mapping.keys())), \n",
        "                                   flags=re.IGNORECASE|re.DOTALL)\n",
        "    patern=re.findall(contractions_pattern,text)\n",
        "    for i in patern:\n",
        "        text=text.replace(i,contraction_mapping[i.lower()])\n",
        "    return text"
      ],
      "execution_count": 51,
      "outputs": []
    },
    {
      "cell_type": "markdown",
      "metadata": {
        "id": "lt1xmCfoz1_S"
      },
      "source": [
        "# **Expand the contracted of words**\n"
      ]
    },
    {
      "cell_type": "code",
      "metadata": {
        "id": "wcx_36O3acL_",
        "colab": {
          "base_uri": "https://localhost:8080/"
        },
        "outputId": "4fc28167-8523-4150-de5b-63a610007cde"
      },
      "source": [
        "\n",
        "for i in range(len(data)):\n",
        "    data[i]=expand(data[i].replace(\" '\",\"'\"))\n",
        "\n",
        "#sentences \n",
        "dataexpand=data\n",
        "print(dataexpand[:20])\n"
      ],
      "execution_count": 52,
      "outputs": [
        {
          "output_type": "stream",
          "text": [
            "[' either you are flat or i am ', ' i beg your pardon ', ' excuse me ', ' always the lady ', ' say ', ' say what the ', ' why i frighten your hiccup away marthy ', ' yes you did ', ' and i am going to hit you ', ' see here ', ' if you soak me in the eye again i am gon na quit you ', ' you get me no ', ' only on the back this time marthy ', ' i get you ', ' well i think you lose them marthy ', ' yes ', ' yes i did ', ' oh i got it ', ' ten ', ' ten swallows of this without breathing and ']\n"
          ],
          "name": "stdout"
        }
      ]
    },
    {
      "cell_type": "markdown",
      "metadata": {
        "id": "Ed3MXoyx0OJg"
      },
      "source": [
        "# **Tokenization**"
      ]
    },
    {
      "cell_type": "code",
      "metadata": {
        "id": "UorBbASIIrl5",
        "colab": {
          "base_uri": "https://localhost:8080/"
        },
        "outputId": "a3956b46-5033-4285-b936-643e3ffe35f9"
      },
      "source": [
        "\n",
        "tokenised_data=[]\n",
        "for i in dataexpand:\n",
        "  token= word_tokenize(str(i))\n",
        "  tokenised_data.append(token)\n",
        "print(tokenised_data[:10])"
      ],
      "execution_count": 53,
      "outputs": [
        {
          "output_type": "stream",
          "text": [
            "[['either', 'you', 'are', 'flat', 'or', 'i', 'am'], ['i', 'beg', 'your', 'pardon'], ['excuse', 'me'], ['always', 'the', 'lady'], ['say'], ['say', 'what', 'the'], ['why', 'i', 'frighten', 'your', 'hiccup', 'away', 'marthy'], ['yes', 'you', 'did'], ['and', 'i', 'am', 'going', 'to', 'hit', 'you'], ['see', 'here']]\n"
          ],
          "name": "stdout"
        }
      ]
    },
    {
      "cell_type": "markdown",
      "metadata": {
        "id": "iPH6KPCj0axD"
      },
      "source": [
        "# **Stop Word Removal**"
      ]
    },
    {
      "cell_type": "code",
      "metadata": {
        "id": "5NrloxOyKNNr"
      },
      "source": [
        "stop_words = set(stopwords.words('english')) \n"
      ],
      "execution_count": 54,
      "outputs": []
    },
    {
      "cell_type": "code",
      "metadata": {
        "id": "jGNFtOCwKmKj",
        "colab": {
          "base_uri": "https://localhost:8080/"
        },
        "outputId": "4747fac0-58b1-4d36-a172-d0544ec22117"
      },
      "source": [
        "stop_removed_data=[]\n",
        "for tokens in tokenised_data:\n",
        "  stop_remove = [w for w in tokens if not w in stop_words] \n",
        "  stop_removed_data.append(stop_remove)\n",
        "print( stop_removed_data[:50]) "
      ],
      "execution_count": 55,
      "outputs": [
        {
          "output_type": "stream",
          "text": [
            "[['either', 'flat'], ['beg', 'pardon'], ['excuse'], ['always', 'lady'], ['say'], ['say'], ['frighten', 'hiccup', 'away', 'marthy'], ['yes'], ['going', 'hit'], ['see'], ['soak', 'eye', 'gon', 'na', 'quit'], ['get'], ['back', 'time', 'marthy'], ['get'], ['well', 'think', 'lose', 'marthy'], ['yes'], ['yes'], ['oh', 'got'], ['ten'], ['ten', 'swallows', 'without', 'breathing'], ['sure', 'cure'], ['one', 'two', 'three', 'four', 'five'], ['maybe', 'got', 'hiccup', 'marthy'], ['see', 'told'], ['sure', 'cure', 'never', 'fails'], ['think', 'got', 'go', 'johnny', 'harp', 'get', 'whiskey'], ['yeah', 'well'], ['right', 'bone', 'dry'], ['wait', 'get', 'bonnet'], ['together'], ['hold', 'sorry', 'took', 'back', 'oh', 'marthy'], ['darn', 'glad', 'found', 'norfolk'], ['aye', 'old', 'go', 'walking', 'streets', 'marthy'], ['old', '!', 'better', 'stay', 'old', 'chris', 'barge'], ['well', 'glad', 'found'], ['honest'], ['yeah', 'glad', 'dump'], ['good', 'old', 'punk'], ['come'], ['yeah'], ['marthy'], ['going', 'marthy', 'boat', 'huh', 'forgot', 'front', 'door'], ['right'], ['right'], ['marthy'], ['oh', 'marthy', 'hold', 'hand'], ['hold', 'hand'], ['well', 'declare'], ['thing', 'like', 'wait', 'minute'], ['nothing']]\n"
          ],
          "name": "stdout"
        }
      ]
    },
    {
      "cell_type": "markdown",
      "metadata": {
        "id": "AhnJeUeT0vXR"
      },
      "source": [
        "# **Lemmatization**"
      ]
    },
    {
      "cell_type": "code",
      "metadata": {
        "id": "mW890dGXMJZL",
        "colab": {
          "base_uri": "https://localhost:8080/"
        },
        "outputId": "e781aa2f-7bd5-4cc5-9f3b-931e2283345e"
      },
      "source": [
        "lemmatizer = WordNetLemmatizer() \n",
        "# a denotes adjective in \"pos\"\n",
        "lemmatised_data=[] \n",
        "for words in stop_removed_data:\n",
        "  lemma_data=[lemmatizer.lemmatize(word, pos =\"a\") for word in words]\n",
        "  lemmatised_data.append(lemma_data)\n",
        "\n",
        "print(lemmatised_data[:50])"
      ],
      "execution_count": 56,
      "outputs": [
        {
          "output_type": "stream",
          "text": [
            "[['either', 'flat'], ['beg', 'pardon'], ['excuse'], ['always', 'lady'], ['say'], ['say'], ['frighten', 'hiccup', 'away', 'marthy'], ['yes'], ['going', 'hit'], ['see'], ['soak', 'eye', 'gon', 'na', 'quit'], ['get'], ['back', 'time', 'marthy'], ['get'], ['well', 'think', 'lose', 'marthy'], ['yes'], ['yes'], ['oh', 'got'], ['ten'], ['ten', 'swallows', 'without', 'breathing'], ['sure', 'cure'], ['one', 'two', 'three', 'four', 'five'], ['maybe', 'got', 'hiccup', 'marthy'], ['see', 'told'], ['sure', 'cure', 'never', 'fails'], ['think', 'got', 'go', 'johnny', 'harp', 'get', 'whiskey'], ['yeah', 'well'], ['right', 'bone', 'dry'], ['wait', 'get', 'bonnet'], ['together'], ['hold', 'sorry', 'took', 'back', 'oh', 'marthy'], ['darn', 'glad', 'found', 'norfolk'], ['aye', 'old', 'go', 'walking', 'streets', 'marthy'], ['old', '!', 'good', 'stay', 'old', 'chris', 'barge'], ['well', 'glad', 'found'], ['honest'], ['yeah', 'glad', 'dump'], ['good', 'old', 'punk'], ['come'], ['yeah'], ['marthy'], ['going', 'marthy', 'boat', 'huh', 'forgot', 'front', 'door'], ['right'], ['right'], ['marthy'], ['oh', 'marthy', 'hold', 'hand'], ['hold', 'hand'], ['well', 'declare'], ['thing', 'like', 'wait', 'minute'], ['nothing']]\n"
          ],
          "name": "stdout"
        }
      ]
    },
    {
      "cell_type": "markdown",
      "metadata": {
        "id": "3KgJvmHlECoF"
      },
      "source": [
        "# **Term statstics**\n"
      ]
    },
    {
      "cell_type": "code",
      "metadata": {
        "id": "1DVNYS0FDndc",
        "colab": {
          "base_uri": "https://localhost:8080/"
        },
        "outputId": "dee50f49-2a26-466e-fbe6-63bd404401e9"
      },
      "source": [
        "\n",
        "n_grams=[]\n",
        "n=[2,3,4]\n",
        "\n",
        "for n_g in n:\n",
        "  gram=[]\n",
        "  for words in lemmatised_data:\n",
        "    if len(words)>1:\n",
        "      sentence=\" \".join(words)\n",
        "      gram.extend(ngrams(sentence.split(), n_g))\n",
        "  n_grams.append(gram)\n",
        "\n",
        "print(\"two gram generation\")\n",
        "print(n_grams[0][:10])\n",
        "print(\" \\n three gram_generation\")\n",
        "print(n_grams[1][:10])\n",
        "print(\"\\n 4 gram generation\")\n",
        "print(n_grams[2][:10])\n",
        "\n"
      ],
      "execution_count": 57,
      "outputs": [
        {
          "output_type": "stream",
          "text": [
            "two gram generation\n",
            "[('either', 'flat'), ('beg', 'pardon'), ('always', 'lady'), ('frighten', 'hiccup'), ('hiccup', 'away'), ('away', 'marthy'), ('going', 'hit'), ('soak', 'eye'), ('eye', 'gon'), ('gon', 'na')]\n",
            " \n",
            " three gram_generation\n",
            "[('frighten', 'hiccup', 'away'), ('hiccup', 'away', 'marthy'), ('soak', 'eye', 'gon'), ('eye', 'gon', 'na'), ('gon', 'na', 'quit'), ('back', 'time', 'marthy'), ('well', 'think', 'lose'), ('think', 'lose', 'marthy'), ('ten', 'swallows', 'without'), ('swallows', 'without', 'breathing')]\n",
            "\n",
            " 4 gram generation\n",
            "[('frighten', 'hiccup', 'away', 'marthy'), ('soak', 'eye', 'gon', 'na'), ('eye', 'gon', 'na', 'quit'), ('well', 'think', 'lose', 'marthy'), ('ten', 'swallows', 'without', 'breathing'), ('one', 'two', 'three', 'four'), ('two', 'three', 'four', 'five'), ('maybe', 'got', 'hiccup', 'marthy'), ('sure', 'cure', 'never', 'fails'), ('think', 'got', 'go', 'johnny')]\n"
          ],
          "name": "stdout"
        },
        {
          "output_type": "stream",
          "text": [
            "/usr/local/lib/python3.6/dist-packages/ipykernel_launcher.py:10: DeprecationWarning: generator 'ngrams' raised StopIteration\n",
            "  # Remove the CWD from sys.path while we load stuff.\n"
          ],
          "name": "stderr"
        }
      ]
    },
    {
      "cell_type": "markdown",
      "metadata": {
        "id": "278oc9cGQI-i"
      },
      "source": [
        "# **Zipps Law**"
      ]
    },
    {
      "cell_type": "code",
      "metadata": {
        "id": "XxPLhTWhI7T-",
        "colab": {
          "base_uri": "https://localhost:8080/",
          "height": 537
        },
        "outputId": "2541c188-33e7-4590-c8c6-59644283dec6"
      },
      "source": [
        "def zipps(sort_dict,rho=0):\n",
        "    rank,freq=[],[]\n",
        "    for idx, (_,i) in enumerate(sort_dict): \n",
        "        freq.append(np.log10(i))\n",
        "        rank.append(np.log10(idx+1+rho))\n",
        "    return rank,freq\n",
        "\n",
        "def best_fit(x,y):\n",
        "    x_bar=np.mean(x)\n",
        "    y_bar=np.mean(y)\n",
        "    num,den=0,0\n",
        "    for i ,j in zip(x,y):\n",
        "        num+=(i-x_bar)*(j-y_bar)\n",
        "        den+=(i-x_bar)**2\n",
        "    m=num/den\n",
        "    c=y_bar-m*x_bar\n",
        "    return m,c\n",
        "\n",
        "bag_of_word=[] #bag of word\n",
        "token = RegexpTokenizer(r'\\w+')\n",
        "for i in dataexpand:\n",
        "    x=token.tokenize(i)\n",
        "    bag_of_word.extend(x) \n",
        "dict_={} # dictionary with frequecy\n",
        "unique=np.unique(bag_of_word)\n",
        "for i in unique:\n",
        "    dict_[i]=bag_of_word.count(i)\n",
        "sort_dict = sorted(dict_.items(), key=lambda kv: kv[1],reverse=True)\n",
        "import pandas as pd\n",
        "df=pd.DataFrame(sort_dict,columns=['Word', \"Frequency\"])\n",
        "print(df.head(10))\n",
        "rho=10\n",
        "rank,freq=zipps(sort_dict,rho)\n",
        "m,c=best_fit(np.array(rank),np.array(freq))\n",
        "\n",
        "freq_m = [m * i + c for i in rank]\n",
        "plt.figure(figsize=(5,5))\n",
        "# Plot the best fit line over the actual values\n",
        "plt.plot(rank, freq, '--',label=\"log_scale data\")\n",
        "plt.plot(rank, freq_m, 'b')\n",
        "plt.xlabel(\"rank\")\n",
        "plt.ylabel(\"freaquency\")\n",
        "plt.legend()\n",
        "plt.title(\"P={}, B={}, rho={} \".format(10**(c),-m,rho))\n",
        "plt.show()\n",
        "        "
      ],
      "execution_count": 58,
      "outputs": [
        {
          "output_type": "stream",
          "text": [
            "   Word  Frequency\n",
            "0   you       6207\n",
            "1     i       5559\n",
            "2   the       3793\n",
            "3    is       3325\n",
            "4    to       3316\n",
            "5     a       2726\n",
            "6    it       2573\n",
            "7     t       2436\n",
            "8     n       2435\n",
            "9  that       2101\n"
          ],
          "name": "stdout"
        },
        {
          "output_type": "display_data",
          "data": {
            "image/png": "[encoded data removed]",
            "text/plain": [
              "<Figure size 360x360 with 1 Axes>"
            ]
          },
          "metadata": {
            "tags": [],
            "needs_background": "light"
          }
        }
      ]
    },
    {
      "cell_type": "markdown",
      "metadata": {
        "id": "qv0FwCDh075t"
      },
      "source": [
        "\n",
        "# **TF-IDF Computation**"
      ]
    },
    {
      "cell_type": "code",
      "metadata": {
        "id": "771UUJHHVwZb",
        "colab": {
          "base_uri": "https://localhost:8080/"
        },
        "outputId": "e33ad994-9bda-4025-c16b-9dbb90b97bc7"
      },
      "source": [
        "def show(dict,max_len=10):\n",
        "  for k in list(dict.keys())[:max_len]:\n",
        "    print(\"{}\".format((k,dict[k])),end=\"  \")\n",
        "\n",
        "import operator\n",
        "tokens_final=[token for tokens in tokenised_data for token in tokens]\n",
        "wordDict = dict.fromkeys(tokens_final, 0)\n",
        "\n",
        "for word in tokens_final:\n",
        "    wordDict[word]+=1\n",
        "\n",
        "\n",
        "sorted_d = dict( sorted(wordDict.items(), key=operator.itemgetter(1),reverse=True))\n",
        "print('Dictionary in descending order by value : ')\n",
        "show(sorted_d)"
      ],
      "execution_count": 59,
      "outputs": [
        {
          "output_type": "stream",
          "text": [
            "Dictionary in descending order by value : \n",
            "('you', 6207)  ('i', 5556)  ('the', 3793)  ('is', 3325)  ('to', 3316)  ('a', 2726)  ('it', 2573)  (\"n't\", 2431)  ('that', 2101)  ('and', 1897)  "
          ],
          "name": "stdout"
        }
      ]
    },
    {
      "cell_type": "code",
      "metadata": {
        "id": "sIHaXvHPegVv"
      },
      "source": [
        "def computeTF(wordDict, bow):\n",
        "    tfDict = {}\n",
        "    bowCount = len(bow)\n",
        "    for word, count in wordDict.items():\n",
        "        tfDict[word] = count/float(bowCount)\n",
        "    return tfDict"
      ],
      "execution_count": 60,
      "outputs": []
    },
    {
      "cell_type": "code",
      "metadata": {
        "id": "e3830wmURDzw",
        "colab": {
          "base_uri": "https://localhost:8080/"
        },
        "outputId": "72a7cb2f-2428-4849-e2ee-317bac3aa53d"
      },
      "source": [
        "tfBow = computeTF(wordDict, tokens_final)\n",
        "show(tfBow,20)"
      ],
      "execution_count": 61,
      "outputs": [
        {
          "output_type": "stream",
          "text": [
            "('either', 0.00021184346180462384)  ('you', 0.043830412247376674)  ('are', 0.009532955781208073)  ('flat', 4.9430141087745564e-05)  ('or', 0.001369921053003234)  ('i', 0.03923340912621633)  ('am', 0.006461225585041027)  ('beg', 0.00016241332071687827)  ('your', 0.006249382123236403)  ('pardon', 0.0002471507054387278)  ('excuse', 0.0002824579490728318)  ('me', 0.009871905320095471)  ('always', 0.0007343906675893626)  ('the', 0.026784075020831275)  ('lady', 0.00046605561597017243)  ('say', 0.0022102334514949085)  ('what', 0.00854435295945316)  ('why', 0.0026268589263773357)  ('frighten', 3.530724363410397e-05)  ('hiccup', 1.4122897453641588e-05)  "
          ],
          "name": "stdout"
        }
      ]
    },
    {
      "cell_type": "code",
      "metadata": {
        "id": "G5eE05iCqwXB"
      },
      "source": [
        "def computeIDF(docList):\n",
        "    import math\n",
        "    idfDict = {}\n",
        "    N = len(docList)\n",
        "  \n",
        "    for word, val in docList[0].items():\n",
        "      idfDict[word] = math.log10(N / float(val)+1)\n",
        "        \n",
        "    return idfDict"
      ],
      "execution_count": 62,
      "outputs": []
    },
    {
      "cell_type": "code",
      "metadata": {
        "id": "MtStWXhjsGIu",
        "colab": {
          "base_uri": "https://localhost:8080/"
        },
        "outputId": "8edbbe17-7c7b-45eb-9e0d-ae2ca8916c85"
      },
      "source": [
        "idfs = computeIDF([wordDict])\n",
        "show(idfs,20)"
      ],
      "execution_count": 63,
      "outputs": [
        {
          "output_type": "stream",
          "text": [
            "('either', 0.014240439114610285)  ('you', 6.996286473501412e-05)  ('are', 0.00032158052702446066)  ('flat', 0.05799194697768673)  ('or', 0.0022328814322919565)  ('i', 7.815971980123504e-05)  ('am', 0.0004743796014020706)  ('beg', 0.018483405694013133)  ('your', 0.0004904511892253475)  ('pardon', 0.012234456417011586)  ('excuse', 0.010723865391773066)  ('me', 0.0003105430821650142)  ('always', 0.004155959771157703)  ('the', 0.00011448384985324136)  ('lady', 0.006530867158957755)  ('say', 0.001385310526766417)  ('what', 0.0003587728266021529)  ('why', 0.001165891926790097)  ('frighten', 0.07918124604762482)  ('hiccup', 0.17609125905568124)  "
          ],
          "name": "stdout"
        }
      ]
    },
    {
      "cell_type": "code",
      "metadata": {
        "id": "DQAJcDKvs6zk"
      },
      "source": [
        "def computeTFIDF(tfBow, idfs):\n",
        "    tfidf = {}\n",
        "    for word, val in tfBow.items():\n",
        "        tfidf[word] = val*idfs[word]\n",
        "    return tfidf"
      ],
      "execution_count": 64,
      "outputs": []
    },
    {
      "cell_type": "code",
      "metadata": {
        "id": "zXSNxt7rs7qV",
        "colab": {
          "base_uri": "https://localhost:8080/"
        },
        "outputId": "530360d4-4c31-4724-d9d5-a49b3ce1856b"
      },
      "source": [
        "tfidfBow = computeTFIDF(tfBow, idfs)\n",
        "show(tfidfBow,20)"
      ],
      "execution_count": 65,
      "outputs": [
        {
          "output_type": "stream",
          "text": [
            "('either', 3.016743919657015e-06)  ('you', 3.0665012033431208e-06)  ('are', 3.0656129442217713e-06)  ('flat', 2.8665501210601152e-06)  ('or', 3.0588712829567663e-06)  ('i', 3.066472264152286e-06)  ('am', 3.0650736176006226e-06)  ('beg', 3.001951296921929e-06)  ('your', 3.065016894264921e-06)  ('pardon', 3.0237545341237835e-06)  ('excuse', 3.02904102469334e-06)  ('me', 3.0656519049436487e-06)  ('always', 3.05209807081504e-06)  ('the', 3.0663440231428003e-06)  ('lady', 3.0437473165874265e-06)  ('say', 3.061859666967168e-06)  ('what', 3.065481662749481e-06)  ('why', 3.0626336150798373e-06)  ('frighten', 2.795671545455422e-06)  ('hiccup', 2.486918794126022e-06)  "
          ],
          "name": "stdout"
        }
      ]
    }
  ]
}